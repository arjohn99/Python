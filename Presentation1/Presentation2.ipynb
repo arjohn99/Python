{
 "cells": [
  {
   "cell_type": "markdown",
   "metadata": {
    "collapsed": true
   },
   "source": [
    "AR: Autoregression. A model that uses the dependent relationship between an observation and some number of lagged observations.\n",
    "I: Integrated. The use of differencing of raw observations (e.g. subtracting an observation from an observation at the previous time step) in order to make the time series stationary.\n",
    "MA: Moving Average. A model that uses the dependency between an observation and a residual error from a moving average model applied to lagged observations"
   ]
  },
  {
   "cell_type": "code",
   "execution_count": 11,
   "metadata": {},
   "outputs": [],
   "source": [
    "import pandas as pd\n",
    "import os\n",
    "import matplotlib.cm as cm\n",
    "from matplotlib.offsetbox import AnchoredText as at\n",
    "import numpy as np\n",
    "from pandas import datetime\n",
    "from matplotlib import pyplot\n",
    "from pandas.tools.plotting import autocorrelation_plot\n",
    "from statsmodels.tsa.arima_model import ARIMA\n",
    "from pandas import DataFrame\n",
    "from statsmodels.tsa.arima_model import ARIMA\n",
    "from sklearn.metrics import mean_squared_error"
   ]
  },
  {
   "cell_type": "code",
   "execution_count": 2,
   "metadata": {},
   "outputs": [
    {
     "data": {
      "text/plain": [
       "38309121.41139303"
      ]
     },
     "execution_count": 2,
     "metadata": {},
     "output_type": "execute_result"
    }
   ],
   "source": [
    "All = pd.read_csv(\"SalesALLNew.csv\",encoding = \"ISO-8859-1\")\n",
    "All['LINETOTAL'].sum()"
   ]
  },
  {
   "cell_type": "code",
   "execution_count": 3,
   "metadata": {},
   "outputs": [
    {
     "name": "stdout",
     "output_type": "stream",
     "text": [
      "<class 'pandas.core.frame.DataFrame'>\n",
      "RangeIndex: 72134 entries, 0 to 72133\n",
      "Data columns (total 7 columns):\n",
      "DATE_TAKEN       72134 non-null object\n",
      "ORDERNO          72132 non-null float64\n",
      "LINETOTAL        72134 non-null float64\n",
      "COMPANY          72134 non-null object\n",
      "SHIP_TO_STATE    70688 non-null object\n",
      "ZIPCODE          71344 non-null object\n",
      "CUST_TYPE_ID     72134 non-null int32\n",
      "dtypes: float64(2), int32(1), object(4)\n",
      "memory usage: 3.6+ MB\n"
     ]
    },
    {
     "data": {
      "text/plain": [
       "array([ 2,  0,  1, 12,  7, 15,  5,  6,  4, 11,  3, 13], dtype=int64)"
      ]
     },
     "execution_count": 3,
     "metadata": {},
     "output_type": "execute_result"
    }
   ],
   "source": [
    "All['LINETOTAL'].sum()\n",
    "All['ZIPCODE'] = All['ZIPCODE'].str[:5]\n",
    "#All['SHIP_TO_ZIP'].value_counts()\n",
    "#All['CUST_TYPE_ID'] = pd.to_int(All['CUST_TYPE_ID'])\n",
    "All['CUST_TYPE_ID'] = All['CUST_TYPE_ID'].fillna(0)\n",
    "All['CUST_TYPE_ID'] = All['CUST_TYPE_ID'].astype(int)\n",
    "All['LINETOTAL'] = np.log(All['LINETOTAL']) / 2\n",
    "All.info()\n",
    "All['CUST_TYPE_ID'].unique()"
   ]
  },
  {
   "cell_type": "code",
   "execution_count": 4,
   "metadata": {},
   "outputs": [
    {
     "data": {
      "text/html": [
       "<div>\n",
       "<style>\n",
       "    .dataframe thead tr:only-child th {\n",
       "        text-align: right;\n",
       "    }\n",
       "\n",
       "    .dataframe thead th {\n",
       "        text-align: left;\n",
       "    }\n",
       "\n",
       "    .dataframe tbody tr th {\n",
       "        vertical-align: top;\n",
       "    }\n",
       "</style>\n",
       "<table border=\"1\" class=\"dataframe\">\n",
       "  <thead>\n",
       "    <tr style=\"text-align: right;\">\n",
       "      <th></th>\n",
       "      <th>DATE_TAKEN</th>\n",
       "      <th>ORDERNO</th>\n",
       "      <th>LINETOTAL</th>\n",
       "      <th>COMPANY</th>\n",
       "      <th>SHIP_TO_STATE</th>\n",
       "      <th>ZIPCODE</th>\n",
       "      <th>CUST_TYPE_ID</th>\n",
       "      <th>Year</th>\n",
       "      <th>Month</th>\n",
       "      <th>YearMonth</th>\n",
       "      <th>YearMonth2</th>\n",
       "    </tr>\n",
       "  </thead>\n",
       "  <tbody>\n",
       "    <tr>\n",
       "      <th>0</th>\n",
       "      <td>1/15/2016</td>\n",
       "      <td>367357.0</td>\n",
       "      <td>1.319529</td>\n",
       "      <td>BENNETT RACING</td>\n",
       "      <td>AL</td>\n",
       "      <td>35565</td>\n",
       "      <td>2</td>\n",
       "      <td>2016</td>\n",
       "      <td>01</td>\n",
       "      <td>2016-01</td>\n",
       "      <td>201601</td>\n",
       "    </tr>\n",
       "    <tr>\n",
       "      <th>1</th>\n",
       "      <td>1/15/2016</td>\n",
       "      <td>367358.0</td>\n",
       "      <td>1.319529</td>\n",
       "      <td>AUSTIN LONES</td>\n",
       "      <td>FL</td>\n",
       "      <td>32566</td>\n",
       "      <td>0</td>\n",
       "      <td>2016</td>\n",
       "      <td>01</td>\n",
       "      <td>2016-01</td>\n",
       "      <td>201601</td>\n",
       "    </tr>\n",
       "    <tr>\n",
       "      <th>2</th>\n",
       "      <td>1/15/2016</td>\n",
       "      <td>367358.0</td>\n",
       "      <td>1.868835</td>\n",
       "      <td>AUSTIN LONES</td>\n",
       "      <td>FL</td>\n",
       "      <td>32566</td>\n",
       "      <td>0</td>\n",
       "      <td>2016</td>\n",
       "      <td>01</td>\n",
       "      <td>2016-01</td>\n",
       "      <td>201601</td>\n",
       "    </tr>\n",
       "    <tr>\n",
       "      <th>3</th>\n",
       "      <td>1/15/2016</td>\n",
       "      <td>367357.0</td>\n",
       "      <td>3.280416</td>\n",
       "      <td>BENNETT RACING</td>\n",
       "      <td>AL</td>\n",
       "      <td>35565</td>\n",
       "      <td>2</td>\n",
       "      <td>2016</td>\n",
       "      <td>01</td>\n",
       "      <td>2016-01</td>\n",
       "      <td>201601</td>\n",
       "    </tr>\n",
       "    <tr>\n",
       "      <th>4</th>\n",
       "      <td>1/15/2016</td>\n",
       "      <td>367359.0</td>\n",
       "      <td>1.589027</td>\n",
       "      <td>WEBORDERS</td>\n",
       "      <td>CA</td>\n",
       "      <td>94571</td>\n",
       "      <td>0</td>\n",
       "      <td>2016</td>\n",
       "      <td>01</td>\n",
       "      <td>2016-01</td>\n",
       "      <td>201601</td>\n",
       "    </tr>\n",
       "  </tbody>\n",
       "</table>\n",
       "</div>"
      ],
      "text/plain": [
       "  DATE_TAKEN   ORDERNO  LINETOTAL         COMPANY SHIP_TO_STATE ZIPCODE  \\\n",
       "0  1/15/2016  367357.0   1.319529  BENNETT RACING            AL   35565   \n",
       "1  1/15/2016  367358.0   1.319529    AUSTIN LONES            FL   32566   \n",
       "2  1/15/2016  367358.0   1.868835    AUSTIN LONES            FL   32566   \n",
       "3  1/15/2016  367357.0   3.280416  BENNETT RACING            AL   35565   \n",
       "4  1/15/2016  367359.0   1.589027       WEBORDERS            CA   94571   \n",
       "\n",
       "   CUST_TYPE_ID  Year Month YearMonth YearMonth2  \n",
       "0             2  2016    01   2016-01     201601  \n",
       "1             0  2016    01   2016-01     201601  \n",
       "2             0  2016    01   2016-01     201601  \n",
       "3             2  2016    01   2016-01     201601  \n",
       "4             0  2016    01   2016-01     201601  "
      ]
     },
     "execution_count": 4,
     "metadata": {},
     "output_type": "execute_result"
    }
   ],
   "source": [
    "All['Year'] = pd.DatetimeIndex(All['DATE_TAKEN']).year\n",
    "All['Month'] = pd.DatetimeIndex(All['DATE_TAKEN']).month.astype(str)\n",
    "All['Month'] = All['Month'].str.zfill(2)\n",
    "All['YearMonth'] = All[\"Year\"].map(str) + '-' + All[\"Month\"].map(str)\n",
    "All['YearMonth2'] = All[\"Year\"].map(str) + All[\"Month\"].map(str)\n",
    "All.head()"
   ]
  },
  {
   "cell_type": "code",
   "execution_count": 5,
   "metadata": {},
   "outputs": [
    {
     "data": {
      "text/html": [
       "<div>\n",
       "<style>\n",
       "    .dataframe thead tr:only-child th {\n",
       "        text-align: right;\n",
       "    }\n",
       "\n",
       "    .dataframe thead th {\n",
       "        text-align: left;\n",
       "    }\n",
       "\n",
       "    .dataframe tbody tr th {\n",
       "        vertical-align: top;\n",
       "    }\n",
       "</style>\n",
       "<table border=\"1\" class=\"dataframe\">\n",
       "  <thead>\n",
       "    <tr style=\"text-align: right;\">\n",
       "      <th></th>\n",
       "      <th>ORDERNO</th>\n",
       "      <th>LINETOTAL</th>\n",
       "      <th>YearMonth</th>\n",
       "      <th>YearMonth2</th>\n",
       "      <th>SHIP_TO_STATE</th>\n",
       "      <th>ZIPCODE</th>\n",
       "      <th>CUST_TYPE_ID</th>\n",
       "    </tr>\n",
       "  </thead>\n",
       "  <tbody>\n",
       "    <tr>\n",
       "      <th>0</th>\n",
       "      <td>367357.0</td>\n",
       "      <td>1.319529</td>\n",
       "      <td>2016-01</td>\n",
       "      <td>201601</td>\n",
       "      <td>AL</td>\n",
       "      <td>35565</td>\n",
       "      <td>2</td>\n",
       "    </tr>\n",
       "    <tr>\n",
       "      <th>1</th>\n",
       "      <td>367358.0</td>\n",
       "      <td>1.319529</td>\n",
       "      <td>2016-01</td>\n",
       "      <td>201601</td>\n",
       "      <td>FL</td>\n",
       "      <td>32566</td>\n",
       "      <td>0</td>\n",
       "    </tr>\n",
       "    <tr>\n",
       "      <th>2</th>\n",
       "      <td>367358.0</td>\n",
       "      <td>1.868835</td>\n",
       "      <td>2016-01</td>\n",
       "      <td>201601</td>\n",
       "      <td>FL</td>\n",
       "      <td>32566</td>\n",
       "      <td>0</td>\n",
       "    </tr>\n",
       "    <tr>\n",
       "      <th>3</th>\n",
       "      <td>367357.0</td>\n",
       "      <td>3.280416</td>\n",
       "      <td>2016-01</td>\n",
       "      <td>201601</td>\n",
       "      <td>AL</td>\n",
       "      <td>35565</td>\n",
       "      <td>2</td>\n",
       "    </tr>\n",
       "    <tr>\n",
       "      <th>4</th>\n",
       "      <td>367359.0</td>\n",
       "      <td>1.589027</td>\n",
       "      <td>2016-01</td>\n",
       "      <td>201601</td>\n",
       "      <td>CA</td>\n",
       "      <td>94571</td>\n",
       "      <td>0</td>\n",
       "    </tr>\n",
       "  </tbody>\n",
       "</table>\n",
       "</div>"
      ],
      "text/plain": [
       "    ORDERNO  LINETOTAL YearMonth YearMonth2 SHIP_TO_STATE ZIPCODE  \\\n",
       "0  367357.0   1.319529   2016-01     201601            AL   35565   \n",
       "1  367358.0   1.319529   2016-01     201601            FL   32566   \n",
       "2  367358.0   1.868835   2016-01     201601            FL   32566   \n",
       "3  367357.0   3.280416   2016-01     201601            AL   35565   \n",
       "4  367359.0   1.589027   2016-01     201601            CA   94571   \n",
       "\n",
       "   CUST_TYPE_ID  \n",
       "0             2  \n",
       "1             0  \n",
       "2             0  \n",
       "3             2  \n",
       "4             0  "
      ]
     },
     "execution_count": 5,
     "metadata": {},
     "output_type": "execute_result"
    }
   ],
   "source": [
    "FinalAll = All[['ORDERNO','LINETOTAL','YearMonth','YearMonth2','SHIP_TO_STATE','ZIPCODE','CUST_TYPE_ID']].copy()\n",
    "#FinalAll.rename(columns={'SHIP_TO_ZIP': 'ZipCode'}, inplace=True)\n",
    "#FinalAll['TotalDollars'] = pd.DataFrame(All.groupby('SHIP_TO_STATE')['LINETOTAL'].sum())\n",
    "\n",
    "FinalAll.head()"
   ]
  },
  {
   "cell_type": "code",
   "execution_count": 6,
   "metadata": {},
   "outputs": [],
   "source": [
    "CUSTS = ['12','13','14','15']\n",
    "\n",
    "FinalAll = FinalAll[~All.CUST_TYPE_ID.isin(CUSTS)]\n",
    "\n",
    "FinalAll['LINETOTAL'] = FinalAll['LINETOTAL']/3"
   ]
  },
  {
   "cell_type": "code",
   "execution_count": 7,
   "metadata": {},
   "outputs": [
    {
     "data": {
      "text/html": [
       "<div>\n",
       "<style>\n",
       "    .dataframe thead tr:only-child th {\n",
       "        text-align: right;\n",
       "    }\n",
       "\n",
       "    .dataframe thead th {\n",
       "        text-align: left;\n",
       "    }\n",
       "\n",
       "    .dataframe tbody tr th {\n",
       "        vertical-align: top;\n",
       "    }\n",
       "</style>\n",
       "<table border=\"1\" class=\"dataframe\">\n",
       "  <thead>\n",
       "    <tr style=\"text-align: right;\">\n",
       "      <th></th>\n",
       "      <th>YearMonth</th>\n",
       "      <th>LINETOTAL</th>\n",
       "    </tr>\n",
       "  </thead>\n",
       "  <tbody>\n",
       "    <tr>\n",
       "      <th>0</th>\n",
       "      <td>2016-01-01</td>\n",
       "      <td>0.439843</td>\n",
       "    </tr>\n",
       "    <tr>\n",
       "      <th>1</th>\n",
       "      <td>2016-01-01</td>\n",
       "      <td>0.439843</td>\n",
       "    </tr>\n",
       "    <tr>\n",
       "      <th>2</th>\n",
       "      <td>2016-01-01</td>\n",
       "      <td>0.622945</td>\n",
       "    </tr>\n",
       "    <tr>\n",
       "      <th>3</th>\n",
       "      <td>2016-01-01</td>\n",
       "      <td>1.093472</td>\n",
       "    </tr>\n",
       "    <tr>\n",
       "      <th>4</th>\n",
       "      <td>2016-01-01</td>\n",
       "      <td>0.529676</td>\n",
       "    </tr>\n",
       "  </tbody>\n",
       "</table>\n",
       "</div>"
      ],
      "text/plain": [
       "   YearMonth  LINETOTAL\n",
       "0 2016-01-01   0.439843\n",
       "1 2016-01-01   0.439843\n",
       "2 2016-01-01   0.622945\n",
       "3 2016-01-01   1.093472\n",
       "4 2016-01-01   0.529676"
      ]
     },
     "execution_count": 7,
     "metadata": {},
     "output_type": "execute_result"
    }
   ],
   "source": [
    "Series = FinalAll[['YearMonth','LINETOTAL']].copy()\n",
    "#Series['YearMonth'] = Series['YearMonth'] + str('-01')\n",
    "Series['YearMonth'] = Series['YearMonth'].apply(lambda x: pd.to_datetime(str(x), format='%Y%m%'))\n",
    "Series.head()"
   ]
  },
  {
   "cell_type": "code",
   "execution_count": 9,
   "metadata": {},
   "outputs": [
    {
     "data": {
      "text/plain": [
       "YearMonth\n",
       "2016-01-01    1456.205232\n",
       "2016-02-01    1878.203705\n",
       "2016-03-01    2304.491339\n",
       "2016-04-01    2054.248784\n",
       "2016-05-01    2149.262117\n",
       "2016-06-01    2059.606521\n",
       "2016-07-01    1841.300543\n",
       "2016-08-01    2163.856261\n",
       "2016-09-01    1800.795389\n",
       "2016-10-01    1811.506947\n",
       "2016-11-01    1829.341747\n",
       "2016-12-01    1538.735746\n",
       "2017-01-01    1815.815614\n",
       "2017-02-01    1973.374533\n",
       "2017-03-01    2688.610315\n",
       "2017-04-01    2265.529148\n",
       "2017-05-01    2424.756731\n",
       "2017-06-01    2217.078922\n",
       "2017-07-01    1959.075648\n",
       "2017-08-01    2246.172740\n",
       "2017-09-01    1807.745879\n",
       "2017-10-01    1824.615348\n",
       "2017-11-01    1773.994670\n",
       "2017-12-01    1575.531337\n",
       "2018-01-01    2412.947589\n",
       "Name: LINETOTAL, dtype: float64"
      ]
     },
     "execution_count": 9,
     "metadata": {},
     "output_type": "execute_result"
    }
   ],
   "source": [
    "SeriesGroup = Series.groupby('YearMonth')['LINETOTAL'].sum()\n",
    "SeriesGroup"
   ]
  },
  {
   "cell_type": "code",
   "execution_count": 12,
   "metadata": {},
   "outputs": [
    {
     "ename": "NameError",
     "evalue": "name 'plt' is not defined",
     "output_type": "error",
     "traceback": [
      "\u001b[1;31m---------------------------------------------------------------------------\u001b[0m",
      "\u001b[1;31mNameError\u001b[0m                                 Traceback (most recent call last)",
      "\u001b[1;32m<ipython-input-12-b86318cd964f>\u001b[0m in \u001b[0;36m<module>\u001b[1;34m()\u001b[0m\n\u001b[0;32m      1\u001b[0m \u001b[0mSeriesGroup\u001b[0m\u001b[1;33m.\u001b[0m\u001b[0mdiff\u001b[0m\u001b[1;33m(\u001b[0m\u001b[1;33m)\u001b[0m\u001b[1;33m.\u001b[0m\u001b[0mplot\u001b[0m\u001b[1;33m(\u001b[0m\u001b[0mfigsize\u001b[0m\u001b[1;33m=\u001b[0m\u001b[1;33m(\u001b[0m\u001b[1;36m20\u001b[0m\u001b[1;33m,\u001b[0m\u001b[1;36m10\u001b[0m\u001b[1;33m)\u001b[0m\u001b[1;33m,\u001b[0m \u001b[0mlinewidth\u001b[0m\u001b[1;33m=\u001b[0m\u001b[1;36m5\u001b[0m\u001b[1;33m,\u001b[0m \u001b[0mfontsize\u001b[0m\u001b[1;33m=\u001b[0m\u001b[1;36m20\u001b[0m\u001b[1;33m)\u001b[0m\u001b[1;33m\u001b[0m\u001b[0m\n\u001b[1;32m----> 2\u001b[1;33m \u001b[0mplt\u001b[0m\u001b[1;33m.\u001b[0m\u001b[0mxlabel\u001b[0m\u001b[1;33m(\u001b[0m\u001b[1;34m'Year'\u001b[0m\u001b[1;33m,\u001b[0m \u001b[0mfontsize\u001b[0m\u001b[1;33m=\u001b[0m\u001b[1;36m20\u001b[0m\u001b[1;33m)\u001b[0m\u001b[1;33m\u001b[0m\u001b[0m\n\u001b[0m\u001b[0;32m      3\u001b[0m \u001b[0mplt\u001b[0m\u001b[1;33m.\u001b[0m\u001b[0mshow\u001b[0m\u001b[1;33m(\u001b[0m\u001b[1;33m)\u001b[0m\u001b[1;33m\u001b[0m\u001b[0m\n",
      "\u001b[1;31mNameError\u001b[0m: name 'plt' is not defined"
     ]
    }
   ],
   "source": [
    "SeriesGroup.diff().plot(figsize=(20,10), linewidth=5, fontsize=20)\n",
    "plt.xlabel('Year', fontsize=20)\n",
    "plt.show()"
   ]
  },
  {
   "cell_type": "code",
   "execution_count": 14,
   "metadata": {},
   "outputs": [
    {
     "data": {
      "image/png": "[encoded data removed]",
      "text/plain": [
       "<matplotlib.figure.Figure at 0x19c9b524588>"
      ]
     },
     "metadata": {},
     "output_type": "display_data"
    }
   ],
   "source": [
    "SeriesGroup[:-1].plot()\n",
    "pyplot.show()"
   ]
  },
  {
   "cell_type": "code",
   "execution_count": 15,
   "metadata": {},
   "outputs": [
    {
     "name": "stderr",
     "output_type": "stream",
     "text": [
      "C:\\Users\\andrewj\\AppData\\Local\\conda\\conda\\envs\\my_root\\lib\\site-packages\\ipykernel_launcher.py:1: FutureWarning: 'pandas.tools.plotting.autocorrelation_plot' is deprecated, import 'pandas.plotting.autocorrelation_plot' instead.\n",
      "  \"\"\"Entry point for launching an IPython kernel.\n"
     ]
    },
    {
     "data": {
      "image/png": "[encoded data removed]",
      "text/plain": [
       "<matplotlib.figure.Figure at 0x19c9b264c50>"
      ]
     },
     "metadata": {},
     "output_type": "display_data"
    }
   ],
   "source": [
    "autocorrelation_plot(SeriesGroup)\n",
    "pyplot.show()"
   ]
  },
  {
   "cell_type": "code",
   "execution_count": 16,
   "metadata": {},
   "outputs": [
    {
     "name": "stdout",
     "output_type": "stream",
     "text": [
      "                             ARIMA Model Results                              \n",
      "==============================================================================\n",
      "Dep. Variable:            D.LINETOTAL   No. Observations:                   24\n",
      "Model:                 ARIMA(5, 1, 0)   Log Likelihood                -168.835\n",
      "Method:                       css-mle   S.D. of innovations            264.853\n",
      "Date:                Thu, 08 Feb 2018   AIC                            351.671\n",
      "Time:                        18:49:13   BIC                            359.917\n",
      "Sample:                    02-01-2016   HQIC                           353.859\n",
      "                         - 01-01-2018                                         \n",
      "=====================================================================================\n",
      "                        coef    std err          z      P>|z|      [0.025      0.975]\n",
      "-------------------------------------------------------------------------------------\n",
      "const                21.1055     37.268      0.566      0.578     -51.938      94.149\n",
      "ar.L1.D.LINETOTAL    -0.2335      0.242     -0.967      0.347      -0.707       0.240\n",
      "ar.L2.D.LINETOTAL     0.1395      0.246      0.568      0.577      -0.342       0.621\n",
      "ar.L3.D.LINETOTAL    -0.0831      0.219     -0.380      0.709      -0.512       0.346\n",
      "ar.L4.D.LINETOTAL    -0.5352      0.206     -2.603      0.018      -0.938      -0.132\n",
      "ar.L5.D.LINETOTAL     0.0930      0.238      0.390      0.701      -0.374       0.560\n",
      "                                    Roots                                    \n",
      "=============================================================================\n",
      "                 Real           Imaginary           Modulus         Frequency\n",
      "-----------------------------------------------------------------------------\n",
      "AR.1           -0.8777           -0.6525j            1.0937           -0.3982\n",
      "AR.2           -0.8777           +0.6525j            1.0937            0.3982\n",
      "AR.3            0.8128           -0.9311j            1.2360           -0.1358\n",
      "AR.4            0.8128           +0.9311j            1.2360            0.1358\n",
      "AR.5            5.8850           -0.0000j            5.8850           -0.0000\n",
      "-----------------------------------------------------------------------------\n"
     ]
    }
   ],
   "source": [
    "# fit model\n",
    "model = ARIMA(SeriesGroup, order=(5,1,0))\n",
    "model_fit = model.fit(disp=0)\n",
    "print(model_fit.summary())"
   ]
  },
  {
   "cell_type": "code",
   "execution_count": 17,
   "metadata": {},
   "outputs": [
    {
     "name": "stdout",
     "output_type": "stream",
     "text": [
      "                             ARIMA Model Results                              \n",
      "==============================================================================\n",
      "Dep. Variable:            D.LINETOTAL   No. Observations:                   24\n",
      "Model:                 ARIMA(1, 1, 1)   Log Likelihood                -170.799\n",
      "Method:                       css-mle   S.D. of innovations            283.314\n",
      "Date:                Thu, 08 Feb 2018   AIC                            349.598\n",
      "Time:                        18:49:15   BIC                            354.310\n",
      "Sample:                    02-01-2016   HQIC                           350.848\n",
      "                         - 01-01-2018                                         \n",
      "=====================================================================================\n",
      "                        coef    std err          z      P>|z|      [0.025      0.975]\n",
      "-------------------------------------------------------------------------------------\n",
      "const                 9.6516     12.565      0.768      0.451     -14.976      34.279\n",
      "ar.L1.D.LINETOTAL     0.3859      0.223      1.729      0.099      -0.052       0.823\n",
      "ma.L1.D.LINETOTAL    -1.0000      0.114     -8.768      0.000      -1.224      -0.776\n",
      "                                    Roots                                    \n",
      "=============================================================================\n",
      "                 Real           Imaginary           Modulus         Frequency\n",
      "-----------------------------------------------------------------------------\n",
      "AR.1            2.5914           +0.0000j            2.5914            0.0000\n",
      "MA.1            1.0000           +0.0000j            1.0000            0.0000\n",
      "-----------------------------------------------------------------------------\n"
     ]
    },
    {
     "data": {
      "image/png": "[encoded data removed]",
      "text/plain": [
       "<matplotlib.figure.Figure at 0x19c9b451c50>"
      ]
     },
     "metadata": {},
     "output_type": "display_data"
    },
    {
     "data": {
      "image/png": "[encoded data removed]",
      "text/plain": [
       "<matplotlib.figure.Figure at 0x19c9b528e80>"
      ]
     },
     "metadata": {},
     "output_type": "display_data"
    },
    {
     "name": "stdout",
     "output_type": "stream",
     "text": [
      "                0\n",
      "count   24.000000\n",
      "mean    36.421429\n",
      "std    303.424508\n",
      "min   -396.930405\n",
      "25%   -175.817268\n",
      "50%     -4.148647\n",
      "75%    214.707435\n",
      "max    718.397641\n",
      "[ 2215.16663617]\n"
     ]
    }
   ],
   "source": [
    "# fit model\n",
    "model = ARIMA(SeriesGroup, order=(1,1,1))\n",
    "model_fit = model.fit(disp=0)\n",
    "print(model_fit.summary())\n",
    "# plot residual errors\n",
    "residuals = DataFrame(model_fit.resid)\n",
    "residuals.plot()\n",
    "pyplot.show()\n",
    "residuals.plot(kind='kde')\n",
    "pyplot.show()\n",
    "print(residuals.describe())\n",
    "output = model_fit.forecast()[0]\n",
    "print(output)"
   ]
  },
  {
   "cell_type": "code",
   "execution_count": 18,
   "metadata": {},
   "outputs": [
    {
     "name": "stdout",
     "output_type": "stream",
     "text": [
      "predicted=2319.484075, expected=2424.756731\n",
      "predicted=2485.291200, expected=2217.078922\n",
      "predicted=2261.836198, expected=1959.075648\n",
      "predicted=1987.012893, expected=2246.172740\n",
      "predicted=2287.749978, expected=1807.745879\n",
      "predicted=1825.322911, expected=1824.615348\n",
      "predicted=1842.158687, expected=1773.994670\n",
      "predicted=1788.439644, expected=1575.531337\n",
      "predicted=1580.719429, expected=2412.947589\n",
      "Test MSE: 134981.374\n"
     ]
    },
    {
     "data": {
      "image/png": "[encoded data removed]",
      "text/plain": [
       "<matplotlib.figure.Figure at 0x19c9a6b5f98>"
      ]
     },
     "metadata": {},
     "output_type": "display_data"
    }
   ],
   "source": [
    "X = SeriesGroup.values\n",
    "size = int(len(X) * 0.66)\n",
    "train, test = X[0:size], X[size:len(X)]\n",
    "history = [x for x in train]\n",
    "predictions = list()\n",
    "for t in range(len(test)):\n",
    "    model = ARIMA(history, order=(0,1,0))\n",
    "    model_fit = model.fit(disp=0)\n",
    "    output = model_fit.forecast()\n",
    "    yhat = output[0]\n",
    "    predictions.append(yhat)\n",
    "    obs = test[t]\n",
    "    history.append(obs)\n",
    "    print('predicted=%f, expected=%f' % (yhat, obs))\n",
    "error = mean_squared_error(test, predictions)\n",
    "print('Test MSE: %.3f' % error)\n",
    "# plot\n",
    "pyplot.plot(test)\n",
    "pyplot.plot(predictions, color='red')\n",
    "pyplot.show()"
   ]
  },
  {
   "cell_type": "code",
   "execution_count": 19,
   "metadata": {},
   "outputs": [
    {
     "name": "stdout",
     "output_type": "stream",
     "text": [
      "                0\n",
      "count   24.000000\n",
      "mean    36.421429\n",
      "std    303.424508\n",
      "min   -396.930405\n",
      "25%   -175.817268\n",
      "50%     -4.148647\n",
      "75%    214.707435\n",
      "max    718.397641\n",
      "[ 616.92544135]\n",
      "Forecast: 2590.299975\n"
     ]
    },
    {
     "data": {
      "image/png": "[encoded data removed]",
      "text/plain": [
       "<matplotlib.figure.Figure at 0x19c9bceb160>"
      ]
     },
     "metadata": {},
     "output_type": "display_data"
    }
   ],
   "source": [
    "# create a differenced series\n",
    "def difference(SeriesGroup, interval=1):\n",
    "\tdiff = list()\n",
    "\tfor i in range(interval, len(SeriesGroup)):\n",
    "\t\tvalue = SeriesGroup[i] - SeriesGroup[i - interval]\n",
    "\t\tdiff.append(value)\n",
    "\treturn np.array(diff)\n",
    " \n",
    "# invert differenced value\n",
    "def inverse_difference(history, yhat, interval=1):\n",
    "\treturn yhat + history[-interval]\n",
    " \n",
    "# load dataset\n",
    "#series = Series.from_csv('dataset.csv', header=None)\n",
    "# seasonal difference\n",
    "X = SeriesGroup.values\n",
    "months_in_year = 12\n",
    "differenced = difference(X, months_in_year)\n",
    "# fit model\n",
    "model = ARIMA(differenced, order=(0,1,0))\n",
    "model_fit = model.fit(disp=0)\n",
    "# one-step out-of sample forecast\n",
    "forecast = model_fit.forecast(steps=1)[0]\n",
    "# invert the differenced forecast to something usable\n",
    "forecast = inverse_difference(X, forecast, months_in_year)\n",
    "print(residuals.describe())\n",
    "output = model_fit.forecast()[0]\n",
    "print(output)\n",
    "print('Forecast: %f' % forecast)\n",
    "#pyplot.plot(difference)\n",
    "pyplot.plot(predictions, color='red')\n",
    "#pyplot.plot(residuals)\n",
    "pyplot.show()\n"
   ]
  },
  {
   "cell_type": "code",
   "execution_count": 20,
   "metadata": {},
   "outputs": [
    {
     "data": {
      "text/plain": [
       "YearMonth\n",
       "2016-01-01    1456.205232\n",
       "2016-02-01    1878.203705\n",
       "2016-03-01    2304.491339\n",
       "2016-04-01    2054.248784\n",
       "2016-05-01    2149.262117\n",
       "2016-06-01    2059.606521\n",
       "2016-07-01    1841.300543\n",
       "2016-08-01    2163.856261\n",
       "2016-09-01    1800.795389\n",
       "2016-10-01    1811.506947\n",
       "2016-11-01    1829.341747\n",
       "2016-12-01    1538.735746\n",
       "2017-01-01    1815.815614\n",
       "2017-02-01    1973.374533\n",
       "2017-03-01    2688.610315\n",
       "2017-04-01    2265.529148\n",
       "2017-05-01    2424.756731\n",
       "2017-06-01    2217.078922\n",
       "2017-07-01    1959.075648\n",
       "2017-08-01    2246.172740\n",
       "2017-09-01    1807.745879\n",
       "2017-10-01    1824.615348\n",
       "2017-11-01    1773.994670\n",
       "2017-12-01    1575.531337\n",
       "Name: LINETOTAL, dtype: float64"
      ]
     },
     "execution_count": 20,
     "metadata": {},
     "output_type": "execute_result"
    }
   ],
   "source": [
    "SeriesGroup[:-1]"
   ]
  },
  {
   "cell_type": "code",
   "execution_count": 31,
   "metadata": {},
   "outputs": [
    {
     "data": {
      "text/html": [
       "<div>\n",
       "<style>\n",
       "    .dataframe thead tr:only-child th {\n",
       "        text-align: right;\n",
       "    }\n",
       "\n",
       "    .dataframe thead th {\n",
       "        text-align: left;\n",
       "    }\n",
       "\n",
       "    .dataframe tbody tr th {\n",
       "        vertical-align: top;\n",
       "    }\n",
       "</style>\n",
       "<table border=\"1\" class=\"dataframe\">\n",
       "  <thead>\n",
       "    <tr style=\"text-align: right;\">\n",
       "      <th></th>\n",
       "      <th>0</th>\n",
       "    </tr>\n",
       "  </thead>\n",
       "  <tbody>\n",
       "    <tr>\n",
       "      <th>0</th>\n",
       "      <td>Month 1: 1823.264406</td>\n",
       "    </tr>\n",
       "    <tr>\n",
       "      <th>1</th>\n",
       "      <td>Month 2: 1951.476527</td>\n",
       "    </tr>\n",
       "    <tr>\n",
       "      <th>2</th>\n",
       "      <td>Month 3: 2637.365509</td>\n",
       "    </tr>\n",
       "    <tr>\n",
       "      <th>3</th>\n",
       "      <td>Month 4: 2184.937543</td>\n",
       "    </tr>\n",
       "    <tr>\n",
       "      <th>4</th>\n",
       "      <td>Month 5: 2314.818328</td>\n",
       "    </tr>\n",
       "    <tr>\n",
       "      <th>5</th>\n",
       "      <td>Month 6: 2077.793719</td>\n",
       "    </tr>\n",
       "    <tr>\n",
       "      <th>6</th>\n",
       "      <td>Month 7: 1790.443646</td>\n",
       "    </tr>\n",
       "    <tr>\n",
       "      <th>7</th>\n",
       "      <td>Month 8: 2048.193939</td>\n",
       "    </tr>\n",
       "    <tr>\n",
       "      <th>8</th>\n",
       "      <td>Month 9: 1580.420278</td>\n",
       "    </tr>\n",
       "  </tbody>\n",
       "</table>\n",
       "</div>"
      ],
      "text/plain": [
       "                      0\n",
       "0  Month 1: 1823.264406\n",
       "1  Month 2: 1951.476527\n",
       "2  Month 3: 2637.365509\n",
       "3  Month 4: 2184.937543\n",
       "4  Month 5: 2314.818328\n",
       "5  Month 6: 2077.793719\n",
       "6  Month 7: 1790.443646\n",
       "7  Month 8: 2048.193939\n",
       "8  Month 9: 1580.420278"
      ]
     },
     "execution_count": 31,
     "metadata": {},
     "output_type": "execute_result"
    }
   ],
   "source": [
    "from pandas import Series\n",
    "from statsmodels.tsa.arima_model import ARIMA\n",
    "import numpy\n",
    "history = []\n",
    "Fore=[]\n",
    "# load dataset\n",
    "SeriesGroup\n",
    "# seasonal difference\n",
    "X = SeriesGroup[:-1].values\n",
    "months_in_year = 12\n",
    "differenced = difference(X, months_in_year)\n",
    "# fit model\n",
    "model = ARIMA(differenced, order=(0,1,0))\n",
    "model_fit = model.fit(disp=0)\n",
    "# multi-step out-of-sample forecast\n",
    "forecast = model_fit.forecast(steps=9)[0]\n",
    "# invert the differenced forecast to something usable\n",
    "history = [x for x in X]\n",
    "month = 1\n",
    "for yhat in forecast:\n",
    "\tinverted = inverse_difference(history, yhat, months_in_year)\n",
    "\tFore.append('Month %d: %f' % (month, inverted))\n",
    "\thistory.append(inverted)\n",
    "\tmonth += 1\n",
    "Fore1 = pd.DataFrame(Fore)\n",
    "Fore1.to_csv('Pres2',encoding='utf-8')\n",
    "Fore1"
   ]
  },
  {
   "cell_type": "code",
   "execution_count": 25,
   "metadata": {
    "collapsed": true
   },
   "outputs": [],
   "source": [
    "# create a differenced series\n",
    "split_point = len(SeriesGroup) - 8\n",
    "dataset, validation = SeriesGroup[0:split_point], SeriesGroup[split_point:]\n",
    "history = [x for x in dataset]\n",
    "def difference(dataset, interval=1):\n",
    "\tdiff = list()\n",
    "\tfor i in range(interval, len(dataset)):\n",
    "\t\tvalue = dataset[i] - dataset[i - interval]\n",
    "\t\tdiff.append(value)\n",
    "\treturn numpy.array(diff)"
   ]
  },
  {
   "cell_type": "code",
   "execution_count": 26,
   "metadata": {
    "collapsed": true
   },
   "outputs": [],
   "source": [
    "# invert differenced value\n",
    "def inverse_difference(history, yhat, interval=1):\n",
    "\treturn yhat + history[-interval]"
   ]
  },
  {
   "cell_type": "code",
   "execution_count": 27,
   "metadata": {},
   "outputs": [
    {
     "name": "stdout",
     "output_type": "stream",
     "text": [
      "Forecast: 2038.577580\n",
      "Month 19: 2314.072195\n",
      "Month 20: 2074.737274\n",
      "Month 21: 2376.264051\n",
      "Month 22: 1992.174237\n",
      "Month 23: 1981.856854\n",
      "Month 24: 1978.662712\n",
      "Month 25: 1667.027769\n"
     ]
    }
   ],
   "source": [
    "from pandas import Series\n",
    "from statsmodels.tsa.arima_model import ARIMA\n",
    "import numpy\n",
    "from pandas import datetime\n",
    " \n",
    "\n",
    "# load dataset\n",
    "series = dataset\n",
    "# seasonal difference\n",
    "X = series.values\n",
    "months_in_year = 12\n",
    "differenced = difference(X, months_in_year)\n",
    "# fit model\n",
    "model = ARIMA(differenced, order=(0,1,0))\n",
    "model_fit = model.fit(disp=0)\n",
    "# one-step out of sample forecast\n",
    "start_index = len(differenced)\n",
    "end_index = len(differenced)\n",
    "forecast = model_fit.predict(start=start_index, end=end_index)\n",
    "# invert the differenced forecast to something usable\n",
    "forecast = inverse_difference(X, forecast, months_in_year)\n",
    "print('Forecast: %f' % forecast)\n",
    "forecast = model_fit.forecast(steps=7)[0]\n",
    "history = [x for x in X]\n",
    "month = 19\n",
    "for yhat in forecast:\n",
    "\tinverted = inverse_difference(history, yhat, months_in_year)\n",
    "\tprint('Month %d: %f' % (month, inverted))\n",
    "\thistory.append(inverted)\n",
    "\tmonth += 1"
   ]
  },
  {
   "cell_type": "code",
   "execution_count": 28,
   "metadata": {},
   "outputs": [
    {
     "name": "stdout",
     "output_type": "stream",
     "text": [
      "YearMonth\n",
      "2017-06-01    2217.078922\n",
      "2017-07-01    1959.075648\n",
      "2017-08-01    2246.172740\n",
      "2017-09-01    1807.745879\n",
      "2017-10-01    1824.615348\n",
      "2017-11-01    1773.994670\n",
      "2017-12-01    1575.531337\n",
      "2018-01-01    2412.947589\n",
      "Name: LINETOTAL, dtype: float64\n"
     ]
    }
   ],
   "source": [
    "print(validation)"
   ]
  },
  {
   "cell_type": "code",
   "execution_count": null,
   "metadata": {
    "collapsed": true
   },
   "outputs": [],
   "source": []
  }
 ],
 "metadata": {
  "kernelspec": {
   "display_name": "Python 3",
   "language": "python",
   "name": "python3"
  },
  "language_info": {
   "codemirror_mode": {
    "name": "ipython",
    "version": 3
   },
   "file_extension": ".py",
   "mimetype": "text/x-python",
   "name": "python",
   "nbconvert_exporter": "python",
   "pygments_lexer": "ipython3",
   "version": "3.6.3"
  }
 },
 "nbformat": 4,
 "nbformat_minor": 2
}
